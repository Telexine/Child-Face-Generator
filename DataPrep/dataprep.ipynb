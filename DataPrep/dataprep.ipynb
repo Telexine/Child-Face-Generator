{
 "cells": [
  {
   "cell_type": "code",
   "execution_count": 43,
   "metadata": {},
   "outputs": [],
   "source": [
    "import os \n",
    "import shutil"
   ]
  },
  {
   "cell_type": "code",
   "execution_count": 77,
   "metadata": {},
   "outputs": [],
   "source": [
    "\n",
    "# Pythono3 code to rename multiple  \n",
    "# files in a directory or folder \n",
    "  \n",
    "# importing os module \n",
    "\n",
    "  \n",
    "# Function to rename multiple files \n",
    "def chk(): \n",
    "    last_digit = 0\n",
    "    direct = \"parent-child\"\n",
    "    setA = set()\n",
    "    setB = set()\n",
    "    setSUM = set()\n",
    "    for filename in os.listdir(direct): \n",
    "            last_digit=last_digit+1\n",
    "            '''\n",
    "\n",
    "            # rename() function will \n",
    "            # rename all the files \n",
    "            os.rename(src, dst) \n",
    "            '''\n",
    "            #print(\"pc_\"+str(int(filename[:3])+last_digit)+\"_\"+filename[-5:],filename)\n",
    "            #print(filename[:3]+\"0\"+filename[3:])\n",
    "\n",
    "            \n",
    "            src = direct+filename\n",
    "            #dst = direct+\"pc_\"+str(int(filename[:3])+last_digit)+\"_\"+filename[-5:]\n",
    "            #os.rename(src, dst) \n",
    "            last_digit += 1 \n",
    "            setSUM.add(filename)\n",
    "            if (filename[8:-4]== \"1\"):\n",
    "                setA.add(filename[:-6])\n",
    "                print(\"A   \"+filename )\n",
    "            else:\n",
    "                setB.add(filename[:-6])\n",
    "                print(\"B   \"+filename )\n",
    "    print(len(setA)) \n",
    "    print(len(setB))\n",
    "    broken = set.symmetric_difference(setB,setA)\n",
    "    print(len(set.symmetric_difference(setB,setA)))\n",
    "    \n",
    "    print(len(setSUM))"
   ]
  },
  {
   "cell_type": "code",
   "execution_count": 87,
   "metadata": {},
   "outputs": [],
   "source": [
    "def copy_rename(dest,old_file_name, new_file_name):\n",
    "        src_dir= os.curdir \n",
    "        dst_dir= os.path.join(os.curdir , dest)\n",
    "        src_file = os.path.join(src_dir, old_file_name)\n",
    "        shutil.copy(src_file,dst_dir)\n",
    "        \n",
    "        dst_file = os.path.join(dst_dir, old_file_name)\n",
    "        new_dst_file_name = os.path.join(dst_dir, new_file_name)\n",
    "         \n",
    "        os.rename(\"./\"+dest+old_file_name[3:],new_dst_file_name)"
   ]
  },
  {
   "cell_type": "code",
   "execution_count": 142,
   "metadata": {},
   "outputs": [],
   "source": [
    "def merg():\n",
    "    \n",
    "    directs = [\"md\",\"fd\",\"ms\",\"fs\"]\n",
    "    files = []\n",
    "    for direct in directs:\n",
    "        for filename in os.listdir(direct): \n",
    "                \n",
    "                if filename.startswith('.'): next\n",
    "                '''\n",
    "\n",
    "                # rename() function will \n",
    "                # rename all the files \n",
    "                os.rename(src, dst) \n",
    "                '''\n",
    "                #print(\"pc_\"+str(int(filename[:3])+last_digit)+\"_\"+filename[-5:],filename)\n",
    "                #print(filename[:3]+\"0\"+filename[3:])\n",
    "\n",
    "\n",
    "                src = direct+\"/\"+filename\n",
    "                #dst = direct+\"pc_\"+str(int(filename[:3])+last_digit)+\"_\"+filename[-5:]\n",
    "                #os.rename(src, dst) \n",
    "                \n",
    "                if not filename.startswith(\".\"):\n",
    "                    files.append(src)\n",
    "                     \n",
    "         \n",
    "        files.sort()\n",
    "    last_digit = 1\n",
    "    i = 0\n",
    "    for img in files:\n",
    "        if(i%2==0):\n",
    "            last_digit=last_digit+1\n",
    "        copy_rename(\"folc/\",img,(\"pc_%04d_%s.jpg\" % (last_digit,(i%2)+1)))\n",
    "        i=i+1\n",
    "         \n",
    "            \n",
    " "
   ]
  },
  {
   "cell_type": "code",
   "execution_count": 143,
   "metadata": {},
   "outputs": [],
   "source": [
    "# Driver Code \n",
    "if __name__ == '__main__': \n",
    "      \n",
    "    # Calling main() function \n",
    "    merg() "
   ]
  },
  {
   "cell_type": "code",
   "execution_count": 130,
   "metadata": {},
   "outputs": [
    {
     "data": {
      "text/plain": [
       "1"
      ]
     },
     "execution_count": 130,
     "metadata": {},
     "output_type": "execute_result"
    }
   ],
   "source": [
    "(0%2)+1"
   ]
  },
  {
   "cell_type": "code",
   "execution_count": 155,
   "metadata": {},
   "outputs": [],
   "source": [
    "from pylab import figure, text, scatter, show\n",
    "import matplotlib.pyplot as plt\n",
    "%matplotlib inline  "
   ]
  },
  {
   "cell_type": "code",
   "execution_count": 156,
   "metadata": {},
   "outputs": [
    {
     "name": "stderr",
     "output_type": "stream",
     "text": [
      "/usr/local/lib/python3.7/site-packages/matplotlib/figure.py:457: UserWarning: matplotlib is currently using a non-GUI backend, so cannot show the figure\n",
      "  \"matplotlib is currently using a non-GUI backend, \"\n"
     ]
    },
    {
     "data": {
      "image/png": "[encoded data removed]",
      "text/plain": [
       "<Figure size 432x288 with 1 Axes>"
      ]
     },
     "metadata": {
      "needs_background": "light"
     },
     "output_type": "display_data"
    }
   ],
   "source": [
    "fig, axs = plt.subplots(1, 1)\n",
    " \n",
    " \n",
    " \n",
    "axs.text(\"\")\n",
    "axs.axis('off')\n",
    "fig.show()"
   ]
  },
  {
   "cell_type": "code",
   "execution_count": null,
   "metadata": {},
   "outputs": [],
   "source": []
  }
 ],
 "metadata": {
  "kernelspec": {
   "display_name": "Python 3",
   "language": "python",
   "name": "python3"
  },
  "language_info": {
   "codemirror_mode": {
    "name": "ipython",
    "version": 3
   },
   "file_extension": ".py",
   "mimetype": "text/x-python",
   "name": "python",
   "nbconvert_exporter": "python",
   "pygments_lexer": "ipython3",
   "version": "3.7.2"
  }
 },
 "nbformat": 4,
 "nbformat_minor": 2
}
